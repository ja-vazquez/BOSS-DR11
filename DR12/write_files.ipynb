{
 "cells": [
  {
   "cell_type": "code",
   "execution_count": 1,
   "metadata": {
    "collapsed": true
   },
   "outputs": [],
   "source": [
    "import os, sys, time"
   ]
  },
  {
   "cell_type": "markdown",
   "metadata": {},
   "source": [
    "#Functions"
   ]
  },
  {
   "cell_type": "code",
   "execution_count": 17,
   "metadata": {
    "collapsed": true
   },
   "outputs": [],
   "source": [
    "def write_ini(model, dataset):\n",
    "    with open('INI_' + model+ '_' + dataset + '.ini', 'w') as f:\n",
    "\n",
    "        f.write('#Root name for files produced \\n')\n",
    "        f.write('file_root= %s_%s \\n'%(model, dataset))\n",
    "\n",
    "        #Select datasets\n",
    "\n",
    "        if 'PLK' in dataset:\n",
    "            f.write(\"\"\"\n",
    "#Planck 2015, default just include native likelihoods (others require clik)\n",
    "DEFAULT(batch2/plik_dx11dr2_HM_v18_TT.ini)\n",
    "DEFAULT(batch2/lowTEB.ini)\n",
    "DEFAULT(batch2/lensing.ini)\n",
    "#DEFAULT(batch2/lowl.ini)  \\n\\n\"\"\")\n",
    "\n",
    "        if 'DR12' in dataset:\n",
    "            f.write('#DR12 BAO-RSD \\n')\n",
    "            f.write('DEFAULT(batch2/DR12.ini) \\n\\n')\n",
    "\n",
    "        if 'JLA' in dataset:\n",
    "            f.write('#Supernovae \\n')\n",
    "            f.write('DEFAULT(batch2/JLA.ini) \\n\\n')\n",
    "\n",
    "        if 'BAO12' in dataset:\n",
    "            f.write('DEFAULT(batch2/DR12_blows8.ini) \\n\\n')\n",
    "\n",
    "        #write main file\n",
    "        f.write('DEFAULT(DR12_INI.ini) \\n\\n')\n",
    "\n",
    "        #select parameters to vary\n",
    "\n",
    "        f.write('param[omegak] = 0 %s \\n'%('-0.1 0.1 0.005 0.005' if 'Ok' in model else ''))\n",
    "        f.write('param[w]      = -1 %s \\n'%('-2 0 0.05 0.05'   if 'w' in model else ''))\n",
    "        f.write('param[mnu]    = 0.06 %s \\n'%('0 2 0.1 0.1'       if 'mnu' in model else ''))\n",
    "        f.write('param[nnu]    = 3.046 %s \\n'%('2 6 0.1 0.1'      if 'Neff' in model else ''))\n",
    "        f.write('param[Alens]  = 1 %s \\n'%('0 2 0.1 0.1'          if 'Alens' in model else ''))\n"
   ]
  },
  {
   "cell_type": "code",
   "execution_count": 19,
   "metadata": {
    "collapsed": true
   },
   "outputs": [],
   "source": [
    "def write_wq(model, dataset):\n",
    "    name = model+ '_' + dataset\n",
    "\n",
    "    wq_input = \"\"\"\n",
    "mode: bycore\n",
    "N: 20\n",
    "threads: 5\n",
    "hostfile: auto\n",
    "job_name: %s\n",
    "command: |\n",
    "     source ~/.bashrc;\n",
    "     OMP_NUM_THREADS=%%threads%% mpirun -hostfile %%hostfile%% ./cosmomc INI_%s.ini > chains/logs/INI_%s.log 2>chains/logs/INI_%s.err\n",
    "    \"\"\"%(name, name, name, name)\n",
    "\n",
    "    with open('wq_' + name + '.ini', 'w') as f:\n",
    "        f.write(wq_input)"
   ]
  },
  {
   "cell_type": "code",
   "execution_count": 20,
   "metadata": {
    "collapsed": true
   },
   "outputs": [],
   "source": [
    "\n",
    "def write_dist(model, dataset):\n",
    "    name = model+ '_' + dataset\n",
    "    i = 1\n",
    "    with open('distparams_' + name + '.ini', 'w') as f:\n",
    "\n",
    "        f.write('file_root = chains/%s \\n\\n'%(name))\n",
    "        f.write('INCLUDE(distparams.ini) \\n\\n')\n",
    "\n",
    "        f.write('plot%i = omegam H0 \\n'%(i));        i+=1\n",
    "\n",
    "        if 'Ok' in model:\n",
    "            f.write('plot%i = omegak H0 \\n'%(i));    i+=1\n",
    "        if 'w' in model:\n",
    "            f.write('plot%i = w H0 \\n'%(i));         i+=1\n",
    "        if 'mnu' in model:\n",
    "            f.write('plot%i = mnu H0 \\n'%(i));       i+=1\n",
    "        if 'Neff' in model:\n",
    "            f.write('plot%i = nnu H0 \\n'%(i));       i+=1\n",
    "        if 'Alens' in model:\n",
    "            f.write('plot%i = Alens H0 \\n'%(i));     i+=1\n",
    "\n",
    "        f.write('plot_2D_num = %i \\n\\n'%(i-1))\n",
    "\n",
    "        if dataset == 'PLK':\n",
    "        #   models = model.replace('Alens_','')\n",
    "\n",
    "            f.write('compare_num = 3 \\n')\n",
    "            f.write('compare1 = %s_PLK+DR12 \\n'%(model))\n",
    "            f.write('compare2 = %s_PLK+DR12+JLA \\n'%(model))\n",
    "            f.write('compare3 = Alens_%s_PLK+BAO12 \\n'%(model))\n",
    "        else:\n",
    "            f.write('compare_num = 0 \\n')"
   ]
  },
  {
   "cell_type": "code",
   "execution_count": 21,
   "metadata": {
    "collapsed": true
   },
   "outputs": [],
   "source": [
    "def print_info():\n",
    "     print 'Usage:'\n",
    "     print '---'\n",
    "     print 'python write_files run/dist all/Alens/[model,dataset]'\n",
    "     print '---'\n"
   ]
  },
  {
   "cell_type": "markdown",
   "metadata": {},
   "source": [
    "#Main code"
   ]
  },
  {
   "cell_type": "code",
   "execution_count": 22,
   "metadata": {
    "collapsed": true
   },
   "outputs": [],
   "source": [
    "if sys.argv[1] == 'info':\n",
    "     print_info()\n",
    "     sys.exit(1)\n",
    "else:\n",
    "     to_do = '%s'%(sys.argv[1])\n",
    "\n",
    "if len(sys.argv) > 2:\n",
    "   if len(sys.argv) > 3:\n",
    "       modell = sys.argv[2].split(',')\n",
    "       datasetl = sys.argv[3].split(',')\n",
    "\n",
    "   if sys.argv[2] == 'all':\n",
    "        modell = ['LCDM','wCDM','OkwCDM','mnu','Neff']\n",
    "        datasetl = ['PLK+DR12+JLA', 'PLK+DR12', 'PLK']\n",
    "   elif sys.argv[2] == 'Alens':\n",
    "        modell = ['Alens_LCDM','Alens_wCDM','Alens_OkwCDM','Alens_mnu', 'Alens_Neff']\n",
    "        datasetl = ['PLK+BAO12']\n",
    "\n",
    "try:\n",
    " for model in modell:\n",
    "     for dataset in datasetl:\n",
    "\n",
    "        if to_do == 'run':\n",
    "           write_ini(model, dataset)\n",
    "           write_wq(model, dataset)\n",
    "#           os.system('nohup wq sub  wq_%s_%s.ini &'%(model,dataset))\n",
    "\n",
    "        if to_do == 'dist':\n",
    "           write_dist(model, dataset)\n",
    "           os.system('./getdist distparams_%s_%s.ini'%(model, dataset))\n",
    "\n",
    "           if dataset == 'PLK':\n",
    "              os.system('python stats/%s_%s_2D.py'%(model, dataset))\n",
    "\n",
    "        time.sleep(1.)\n",
    "except:\n",
    " print_info()"
   ]
  },
  {
   "cell_type": "markdown",
   "metadata": {},
   "source": [
    "#Tests"
   ]
  },
  {
   "cell_type": "code",
   "execution_count": 18,
   "metadata": {
    "collapsed": false
   },
   "outputs": [],
   "source": [
    "model = 'OkwCDM_Alens'\n",
    "dataset = 'PLK+BAO12'\n",
    "write_ini(model, dataset)"
   ]
  },
  {
   "cell_type": "code",
   "execution_count": null,
   "metadata": {
    "collapsed": true
   },
   "outputs": [],
   "source": []
  }
 ],
 "metadata": {
  "kernelspec": {
   "display_name": "Python 2",
   "language": "python",
   "name": "python2"
  },
  "language_info": {
   "codemirror_mode": {
    "name": "ipython",
    "version": 2
   },
   "file_extension": ".py",
   "mimetype": "text/x-python",
   "name": "python",
   "nbconvert_exporter": "python",
   "pygments_lexer": "ipython2",
   "version": "2.7.10"
  }
 },
 "nbformat": 4,
 "nbformat_minor": 0
}
